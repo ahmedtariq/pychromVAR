{
 "cells": [
  {
   "cell_type": "code",
   "execution_count": 1,
   "id": "969f0075-4000-4f3a-8064-ce839c99873e",
   "metadata": {},
   "outputs": [],
   "source": [
    "suppressMessages(library(Signac))\n",
    "suppressMessages(library(Seurat))\n",
    "suppressMessages(library(EnsDb.Hsapiens.v86))\n",
    "suppressMessages(library(BSgenome.Hsapiens.UCSC.hg38))\n",
    "suppressMessages(library(JASPAR2020))\n",
    "suppressMessages(library(TFBSTools))\n",
    "\n",
    "set.seed(1234)"
   ]
  },
  {
   "cell_type": "code",
   "execution_count": 2,
   "id": "5f670327-af3e-439f-a3b6-8c9a1c97cc54",
   "metadata": {},
   "outputs": [
    {
     "name": "stderr",
     "output_type": "stream",
     "text": [
      "Genome matrix has multiple modalities, returning a list of matrices for this genome\n",
      "\n"
     ]
    }
   ],
   "source": [
    "# load the RNA and ATAC data\n",
    "counts <- Read10X_h5(\"./pbmc_granulocyte_sorted_3k_filtered_feature_bc_matrix.h5\")"
   ]
  },
  {
   "cell_type": "code",
   "execution_count": 3,
   "id": "8b467b53-1542-48f5-9bac-a5ce3af6af7b",
   "metadata": {},
   "outputs": [],
   "source": [
    "# create a Seurat object containing the RNA adata\n",
    "pbmc <- CreateSeuratObject(\n",
    "  counts = counts$`Gene Expression`,\n",
    "  assay = \"RNA\"\n",
    ")"
   ]
  },
  {
   "cell_type": "code",
   "execution_count": 4,
   "id": "42758fd9-d93e-466a-99d7-087dccdeac0f",
   "metadata": {},
   "outputs": [],
   "source": [
    "peaks <- counts$Peaks"
   ]
  },
  {
   "cell_type": "code",
   "execution_count": 9,
   "id": "854f7863-5a76-433e-be19-af60e794a011",
   "metadata": {},
   "outputs": [],
   "source": [
    "# clean up the peaks\n",
    "peaks <- peaks[!grepl(\"chrM\", rownames(peaks)), ]\n",
    "peaks <- peaks[!grepl(\"random\", rownames(peaks)), ]\n",
    "peaks <- peaks[!grepl(\"alt\", rownames(peaks)), ]\n",
    "peaks <- peaks[!grepl(\"KI\", rownames(peaks)), ]\n",
    "peaks <- peaks[!grepl(\"GL\", rownames(peaks)), ]"
   ]
  },
  {
   "cell_type": "code",
   "execution_count": 10,
   "id": "b7807e54-1e4b-4724-ab34-423950b0c7eb",
   "metadata": {},
   "outputs": [],
   "source": [
    "# create ATAC assay and add it to the object\n",
    "pbmc[[\"ATAC\"]] <- CreateChromatinAssay(\n",
    "  counts = peaks,\n",
    "  sep = c(\":\", \"-\")\n",
    ")"
   ]
  },
  {
   "cell_type": "code",
   "execution_count": 11,
   "id": "a91a48f6-f2a2-404b-b13a-9449ef8e1f94",
   "metadata": {},
   "outputs": [
    {
     "data": {
      "text/plain": [
       "GRanges object with 98290 ranges and 0 metadata columns:\n",
       "          seqnames              ranges strand\n",
       "             <Rle>           <IRanges>  <Rle>\n",
       "      [1]     chr1          9768-10660      *\n",
       "      [2]     chr1       180582-181297      *\n",
       "      [3]     chr1       181404-181887      *\n",
       "      [4]     chr1       191175-192089      *\n",
       "      [5]     chr1       267561-268455      *\n",
       "      ...      ...                 ...    ...\n",
       "  [98286]     chrX 156030114-156030945      *\n",
       "  [98287]     chrY   11295202-11296181      *\n",
       "  [98288]     chrY   11332853-11333545      *\n",
       "  [98289]     chrY   11333667-11334374      *\n",
       "  [98290]     chrY   56836234-56837094      *\n",
       "  -------\n",
       "  seqinfo: 24 sequences from an unspecified genome; no seqlengths"
      ]
     },
     "metadata": {},
     "output_type": "display_data"
    }
   ],
   "source": [
    "pbmc@assays$ATAC@ranges"
   ]
  },
  {
   "cell_type": "code",
   "execution_count": 12,
   "id": "4984eb8c-eb5c-41d4-88a7-7e4a3d9d74cb",
   "metadata": {},
   "outputs": [],
   "source": [
    "DefaultAssay(pbmc) <- \"ATAC\""
   ]
  },
  {
   "cell_type": "code",
   "execution_count": 13,
   "id": "b53b95e3-e30e-44f4-9525-862825bd7409",
   "metadata": {},
   "outputs": [
    {
     "name": "stderr",
     "output_type": "stream",
     "text": [
      "Building motif matrix\n",
      "\n",
      "Finding motif positions\n",
      "\n",
      "Creating Motif object\n",
      "\n"
     ]
    }
   ],
   "source": [
    "# Get a list of motif position frequency matrices from the JASPAR database\n",
    "pfm <- getMatrixSet(\n",
    "  x = JASPAR2020,\n",
    "  opts = list(collection = \"CORE\", tax_group = 'vertebrates', all_versions = FALSE)\n",
    ")\n",
    "\n",
    "# add motif information\n",
    "pbmc <- AddMotifs(\n",
    "  object = pbmc,\n",
    "  genome = BSgenome.Hsapiens.UCSC.hg38,\n",
    "  pfm = pfm\n",
    ")"
   ]
  },
  {
   "cell_type": "code",
   "execution_count": 14,
   "id": "efc3d5d3-fc54-47ef-a906-68a1e4bf1bb6",
   "metadata": {},
   "outputs": [
    {
     "name": "stderr",
     "output_type": "stream",
     "text": [
      "Computing GC bias per region\n",
      "\n",
      "Selecting background regions\n",
      "\n",
      "Computing deviations from background\n",
      "\n",
      "Constructing chromVAR assay\n",
      "\n"
     ]
    }
   ],
   "source": [
    "pbmc <- RunChromVAR(\n",
    "  object = pbmc,\n",
    "  genome = BSgenome.Hsapiens.UCSC.hg38\n",
    ")"
   ]
  },
  {
   "cell_type": "code",
   "execution_count": 15,
   "id": "f4fb658c-2b76-45f9-bed2-9e349a9cf015",
   "metadata": {},
   "outputs": [
    {
     "data": {
      "text/plain": [
       "An object of class Seurat \n",
       "135637 features across 2711 samples within 3 assays \n",
       "Active assay: ATAC (98290 features, 0 variable features)\n",
       " 2 other assays present: RNA, chromvar"
      ]
     },
     "metadata": {},
     "output_type": "display_data"
    }
   ],
   "source": [
    "pbmc"
   ]
  },
  {
   "cell_type": "code",
   "execution_count": null,
   "id": "5df50225-c951-4d9d-8f1b-34b38b6389f0",
   "metadata": {},
   "outputs": [],
   "source": []
  }
 ],
 "metadata": {
  "kernelspec": {
   "display_name": "R",
   "language": "R",
   "name": "ir"
  },
  "language_info": {
   "codemirror_mode": "r",
   "file_extension": ".r",
   "mimetype": "text/x-r-source",
   "name": "R",
   "pygments_lexer": "r",
   "version": "4.1.1"
  }
 },
 "nbformat": 4,
 "nbformat_minor": 5
}
