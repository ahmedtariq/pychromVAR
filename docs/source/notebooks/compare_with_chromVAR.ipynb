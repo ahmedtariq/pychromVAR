{
 "cells": [
  {
   "cell_type": "markdown",
   "id": "33fe3950-e22b-4a28-a6dc-693fc6592dc4",
   "metadata": {},
   "source": [
    "# Comparison between pychromVAR and chromVAR: Part II"
   ]
  },
  {
   "cell_type": "markdown",
   "id": "a4c766a3-22ee-44cc-982d-07987a5f6488",
   "metadata": {},
   "source": [
    "## Run pychromVAR on the example data"
   ]
  },
  {
   "cell_type": "markdown",
   "id": "3b822705-2818-4871-8c1d-d143a7ace209",
   "metadata": {},
   "source": [
    "Import packages"
   ]
  },
  {
   "cell_type": "code",
   "execution_count": 1,
   "id": "adf99c74-4011-44a8-9ac9-f3cafc16190c",
   "metadata": {},
   "outputs": [],
   "source": [
    "import anndata\n",
    "from pyjaspar import jaspardb\n",
    "import pychromvar as pc\n",
    "import numpy as np\n",
    "import matplotlib.pyplot as plt\n",
    "import scipy as sp\n",
    "import pandas as pd\n",
    "import seaborn as sns"
   ]
  },
  {
   "cell_type": "markdown",
   "id": "2e47f0a4-58d5-4223-a8e1-a4455d778c8e",
   "metadata": {},
   "source": [
    "We can load the data as an anndata object"
   ]
  },
  {
   "cell_type": "code",
   "execution_count": 2,
   "id": "f46dcd0f-076a-44db-8106-ccaae131e9ac",
   "metadata": {},
   "outputs": [
    {
     "data": {
      "text/plain": [
       "AnnData object with n_obs × n_vars = 50 × 29269"
      ]
     },
     "execution_count": 2,
     "metadata": {},
     "output_type": "execute_result"
    }
   ],
   "source": [
    "adata = anndata.read_csv(\"./counts.csv\").transpose()\n",
    "adata"
   ]
  },
  {
   "cell_type": "markdown",
   "id": "2bd28801-44b0-4a30-8bb3-230d1d33feff",
   "metadata": {},
   "source": [
    "Before we jump into the running, we need a reference genome for GC bias and motif matching. Here pychromVAR provide a function **get_genome** to\n",
    "allow you to download genome sequence that we need. If you already have one, then this step can be skipped."
   ]
  },
  {
   "cell_type": "code",
   "execution_count": 3,
   "id": "df93b36f-51ba-4192-8b63-cd68788c51d9",
   "metadata": {},
   "outputs": [],
   "source": [
    "#pc.get_genome(\"hg19\", output_dir=\"./\")"
   ]
  },
  {
   "cell_type": "markdown",
   "id": "b0d01516-e2a2-49b0-95dd-5199df2efbcb",
   "metadata": {},
   "source": [
    "We first extract the sequence information for each peak:"
   ]
  },
  {
   "cell_type": "code",
   "execution_count": 4,
   "id": "4705aaa8-7b29-44ad-b6b8-acbc4103f7b3",
   "metadata": {},
   "outputs": [
    {
     "name": "stderr",
     "output_type": "stream",
     "text": [
      "100%|████████████████████████████████████████████████████████████████████████| 29269/29269 [00:00<00:00, 85334.16it/s]\n"
     ]
    }
   ],
   "source": [
    "pc.add_peak_seq(adata, genome_file=\"./hg19.fa\")"
   ]
  },
  {
   "cell_type": "markdown",
   "id": "1d388922-33e1-47f3-aeff-2e3d5989aa0e",
   "metadata": {},
   "source": [
    "Then we can estimate GC bias per peak and get the backgrounds"
   ]
  },
  {
   "cell_type": "code",
   "execution_count": 5,
   "id": "750cf06e-7ffd-44f2-9367-d113a856a321",
   "metadata": {},
   "outputs": [
    {
     "name": "stderr",
     "output_type": "stream",
     "text": [
      "100%|███████████████████████████████████████████████████████████████████████| 29269/29269 [00:00<00:00, 138833.32it/s]\n",
      "/Users/zhijianli/miniconda3/envs/pychromvar/lib/python3.9/site-packages/scipy/sparse/_index.py:146: SparseEfficiencyWarning: Changing the sparsity structure of a csr_matrix is expensive. lil_matrix is more efficient.\n",
      "  self._set_arrayXarray(i, j, x)\n"
     ]
    }
   ],
   "source": [
    "pc.add_gc_bias(adata)\n",
    "pc.get_bg_peaks(adata)\n",
    "\n",
    "# # add background peaks\n",
    "#df_bg_peaks = pd.read_csv(\"./bg_peaks.csv\", index_col=0)\n",
    "#adata.varm['bg_peaks'] = df_bg_peaks.to_numpy() - 1"
   ]
  },
  {
   "cell_type": "code",
   "execution_count": 6,
   "id": "e1bc681f-e46f-4ecc-9437-b40e3c437ced",
   "metadata": {},
   "outputs": [
    {
     "data": {
      "text/plain": [
       "AnnData object with n_obs × n_vars = 50 × 29269\n",
       "    var: 'gc_bias'\n",
       "    uns: 'peak_seq'\n",
       "    varm: 'bg_peaks'"
      ]
     },
     "execution_count": 6,
     "metadata": {},
     "output_type": "execute_result"
    }
   ],
   "source": [
    "adata"
   ]
  },
  {
   "cell_type": "markdown",
   "id": "8e213b04-b711-474f-a72c-93644e7edb0e",
   "metadata": {},
   "source": [
    "We next extract TF motifs and perform motif matching to identify TF binding sites"
   ]
  },
  {
   "cell_type": "code",
   "execution_count": 7,
   "id": "c835e281-5747-46a9-8bdd-3eeb6aca311e",
   "metadata": {},
   "outputs": [
    {
     "name": "stderr",
     "output_type": "stream",
     "text": [
      "100%|█████████████████████████████████████████████████████████████████████████| 29269/29269 [00:13<00:00, 2200.92it/s]\n"
     ]
    }
   ],
   "source": [
    "jdb_obj = jaspardb(release='JASPAR2020')\n",
    "motifs = jdb_obj.fetch_motifs(\n",
    "    collection = 'CORE',\n",
    "    tax_group = ['vertebrates'])\n",
    "\n",
    "pc.match_motif(adata, motifs=motifs, p_value=5e-05)"
   ]
  },
  {
   "cell_type": "code",
   "execution_count": 10,
   "id": "f6a3073b-8e22-4280-ad1a-5ced51a19c67",
   "metadata": {},
   "outputs": [],
   "source": [
    "#df_motif_match = pd.read_csv(\"./chromvar_motif_match.csv\", index_col=0)\n",
    "#adata.varm['motif_match'] = df_motif_match.to_numpy()"
   ]
  },
  {
   "cell_type": "markdown",
   "id": "77b477be-0036-4ca2-9061-c9cb98ec6baa",
   "metadata": {},
   "source": [
    "With these information, we can estimate TF binding sites accessibility deviations with function **compute_deviations**. This function will return an Anndata object with cells * motifs."
   ]
  },
  {
   "cell_type": "code",
   "execution_count": null,
   "id": "3aa2fcd7-799f-4f18-91c4-feb3baff8d3e",
   "metadata": {},
   "outputs": [
    {
     "name": "stderr",
     "output_type": "stream",
     "text": [
      "/Users/zhijianli/miniconda3/envs/pychromvar/lib/python3.9/site-packages/pychromvar/compute_deviations.py:44: RuntimeWarning: invalid value encountered in divide\n",
      "  obs_dev = ((observed - expected) / expected).transpose()\n",
      "/Users/zhijianli/miniconda3/envs/pychromvar/lib/python3.9/site-packages/pychromvar/compute_deviations.py:57: RuntimeWarning: invalid value encountered in divide\n",
      "  bg_dev[i, :, :] = ((bg_observed - bg_expected) / bg_expected).transpose()\n"
     ]
    }
   ],
   "source": [
    "dev = pc.compute_deviations(adata)\n",
    "#dev\n",
    "#pc.compute_deviations(adata)"
   ]
  },
  {
   "cell_type": "markdown",
   "id": "16002a9d-aae7-440e-b3d2-58399ca08f25",
   "metadata": {},
   "source": [
    "## Compare with chromVAR"
   ]
  },
  {
   "cell_type": "markdown",
   "id": "17fd3afb-0e11-466a-a2ec-9e7cf0d14c5f",
   "metadata": {},
   "source": [
    "We next compare the results between pychromVAR and [chromVAR](https://github.com/GreenleafLab/chromVAR). \n",
    "Basically, we calculate the correlation of each cells across all TFs and if these two results are similar, we should observe a high correlation."
   ]
  },
  {
   "cell_type": "code",
   "execution_count": null,
   "id": "a350f034-f356-42bd-9d61-576e134a65d1",
   "metadata": {},
   "outputs": [],
   "source": [
    "df_pychromvar = pd.DataFrame(dev.X, \n",
    "                            columns=dev.var_names, \n",
    "                            index=dev.obs_names)\n",
    "\n",
    "# df_pychromvar = pd.DataFrame(adata.obsm['chromvar_z'], \n",
    "#                              columns=adata.uns['motif_name'], \n",
    "#                              index=adata.obs_names)\n",
    "\n",
    "df_chromvar = pd.read_csv(\"./chromvar_z.csv\", index_col=0)\n",
    "\n",
    "correlation = df_pychromvar.corrwith(df_chromvar, axis = 1)"
   ]
  },
  {
   "cell_type": "code",
   "execution_count": null,
   "id": "26913817-c549-439d-9e1a-957b02e4d5e6",
   "metadata": {},
   "outputs": [],
   "source": [
    "correlation"
   ]
  },
  {
   "cell_type": "code",
   "execution_count": null,
   "id": "464cfd7a-46f3-45e9-a7f2-6986ff501f9e",
   "metadata": {},
   "outputs": [],
   "source": [
    "sns.boxplot(data=correlation)"
   ]
  },
  {
   "cell_type": "code",
   "execution_count": null,
   "id": "a94e116d-fb7e-4692-9ddc-ac0c002cada4",
   "metadata": {},
   "outputs": [],
   "source": []
  }
 ],
 "metadata": {
  "kernelspec": {
   "display_name": "Python 3 (ipykernel)",
   "language": "python",
   "name": "python3"
  },
  "language_info": {
   "codemirror_mode": {
    "name": "ipython",
    "version": 3
   },
   "file_extension": ".py",
   "mimetype": "text/x-python",
   "name": "python",
   "nbconvert_exporter": "python",
   "pygments_lexer": "ipython3",
   "version": "3.9.15"
  }
 },
 "nbformat": 4,
 "nbformat_minor": 5
}
