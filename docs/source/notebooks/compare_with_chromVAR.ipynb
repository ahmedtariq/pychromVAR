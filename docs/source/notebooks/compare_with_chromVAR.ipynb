{
 "cells": [
  {
   "cell_type": "markdown",
   "id": "33fe3950-e22b-4a28-a6dc-693fc6592dc4",
   "metadata": {},
   "source": [
    "# Comparison between pychromVAR and chromVAR: Part II"
   ]
  },
  {
   "cell_type": "markdown",
   "id": "a4c766a3-22ee-44cc-982d-07987a5f6488",
   "metadata": {},
   "source": [
    "## Run pychromVAR on the example data"
   ]
  },
  {
   "cell_type": "markdown",
   "id": "3b822705-2818-4871-8c1d-d143a7ace209",
   "metadata": {},
   "source": [
    "Import packages"
   ]
  },
  {
   "cell_type": "code",
   "execution_count": 1,
   "id": "adf99c74-4011-44a8-9ac9-f3cafc16190c",
   "metadata": {},
   "outputs": [],
   "source": [
    "import anndata\n",
    "from pyjaspar import jaspardb\n",
    "import pychromvar as pc\n",
    "import numpy as np\n",
    "import matplotlib.pyplot as plt\n",
    "import scipy as sp\n",
    "import pandas as pd\n",
    "import seaborn as sns"
   ]
  },
  {
   "cell_type": "code",
   "execution_count": 2,
   "id": "caa71ee7-865c-467c-92ef-021299fef0e7",
   "metadata": {},
   "outputs": [
    {
     "data": {
      "text/plain": [
       "'0.0.2'"
      ]
     },
     "execution_count": 2,
     "metadata": {},
     "output_type": "execute_result"
    }
   ],
   "source": [
    "pc.__version__"
   ]
  },
  {
   "cell_type": "markdown",
   "id": "2e47f0a4-58d5-4223-a8e1-a4455d778c8e",
   "metadata": {},
   "source": [
    "We can load the data as an anndata object"
   ]
  },
  {
   "cell_type": "code",
   "execution_count": 3,
   "id": "f46dcd0f-076a-44db-8106-ccaae131e9ac",
   "metadata": {},
   "outputs": [
    {
     "data": {
      "text/plain": [
       "AnnData object with n_obs × n_vars = 50 × 29269"
      ]
     },
     "execution_count": 3,
     "metadata": {},
     "output_type": "execute_result"
    }
   ],
   "source": [
    "adata = anndata.read_csv(\"./counts.csv\").transpose()\n",
    "adata"
   ]
  },
  {
   "cell_type": "markdown",
   "id": "2bd28801-44b0-4a30-8bb3-230d1d33feff",
   "metadata": {},
   "source": [
    "Before we jump into the running, we need a reference genome for GC bias and motif matching. Here pychromVAR provide a function **get_genome** to\n",
    "allow you to download genome sequence that we need. If you already have one, then this step can be skipped."
   ]
  },
  {
   "cell_type": "code",
   "execution_count": 4,
   "id": "df93b36f-51ba-4192-8b63-cd68788c51d9",
   "metadata": {},
   "outputs": [
    {
     "name": "stderr",
     "output_type": "stream",
     "text": [
      "100%|█████████████████████████████████████████████████████████████████████████████████| 25/25 [03:04<00:00,  7.37s/it]\n"
     ]
    }
   ],
   "source": [
    "pc.get_genome(\"hg19\", output_dir=\"./\")"
   ]
  },
  {
   "cell_type": "markdown",
   "id": "b0d01516-e2a2-49b0-95dd-5199df2efbcb",
   "metadata": {},
   "source": [
    "We first extract the sequence information for each peak:"
   ]
  },
  {
   "cell_type": "code",
   "execution_count": 5,
   "id": "4705aaa8-7b29-44ad-b6b8-acbc4103f7b3",
   "metadata": {},
   "outputs": [
    {
     "name": "stderr",
     "output_type": "stream",
     "text": [
      "100%|████████████████████████████████████████████████████████████████████████| 29269/29269 [00:00<00:00, 84265.36it/s]\n"
     ]
    }
   ],
   "source": [
    "pc.add_peak_seq(adata, genome_file=\"./hg19.fa\")"
   ]
  },
  {
   "cell_type": "markdown",
   "id": "1d388922-33e1-47f3-aeff-2e3d5989aa0e",
   "metadata": {},
   "source": [
    "Then we can estimate GC bias per peak and get the backgrounds"
   ]
  },
  {
   "cell_type": "code",
   "execution_count": 6,
   "id": "750cf06e-7ffd-44f2-9367-d113a856a321",
   "metadata": {},
   "outputs": [
    {
     "name": "stderr",
     "output_type": "stream",
     "text": [
      "100%|███████████████████████████████████████████████████████████████████████| 29269/29269 [00:00<00:00, 147677.10it/s]\n",
      "/Users/zhijianli/miniconda3/envs/pychromvar/lib/python3.9/site-packages/scipy/sparse/_index.py:146: SparseEfficiencyWarning: Changing the sparsity structure of a csr_matrix is expensive. lil_matrix is more efficient.\n",
      "  self._set_arrayXarray(i, j, x)\n"
     ]
    }
   ],
   "source": [
    "pc.add_gc_bias(adata)\n",
    "pc.get_bg_peaks(adata)"
   ]
  },
  {
   "cell_type": "markdown",
   "id": "8e213b04-b711-474f-a72c-93644e7edb0e",
   "metadata": {},
   "source": [
    "We next extract TF motifs and perform motif matching to identify TF binding sites"
   ]
  },
  {
   "cell_type": "code",
   "execution_count": 7,
   "id": "c835e281-5747-46a9-8bdd-3eeb6aca311e",
   "metadata": {},
   "outputs": [
    {
     "name": "stderr",
     "output_type": "stream",
     "text": [
      "100%|█████████████████████████████████████████████████████████████████████████| 29269/29269 [00:13<00:00, 2228.15it/s]\n"
     ]
    }
   ],
   "source": [
    "jdb_obj = jaspardb(release='JASPAR2020')\n",
    "motifs = jdb_obj.fetch_motifs(\n",
    "    collection = 'CORE',\n",
    "    tax_group = ['vertebrates'])\n",
    "\n",
    "pc.match_motif(adata, motifs=motifs, p_value=5e-05)"
   ]
  },
  {
   "cell_type": "markdown",
   "id": "77b477be-0036-4ca2-9061-c9cb98ec6baa",
   "metadata": {},
   "source": [
    "With these information, we can estimate TF binding sites accessibility deviations with function **compute_deviations**. This function will return an Anndata object with cells * motifs."
   ]
  },
  {
   "cell_type": "code",
   "execution_count": 8,
   "id": "3aa2fcd7-799f-4f18-91c4-feb3baff8d3e",
   "metadata": {},
   "outputs": [
    {
     "name": "stderr",
     "output_type": "stream",
     "text": [
      "2023-01-27 20:46:09 INFO     computing expectation reads per cell and peak...\n",
      "2023-01-27 20:46:09 INFO     computing observed motif deviations...\n",
      "2023-01-27 20:46:09 INFO     computing background deviations...\n"
     ]
    }
   ],
   "source": [
    "dev = pc.compute_deviations(adata)"
   ]
  },
  {
   "cell_type": "markdown",
   "id": "16002a9d-aae7-440e-b3d2-58399ca08f25",
   "metadata": {},
   "source": [
    "## Compare with chromVAR"
   ]
  },
  {
   "cell_type": "markdown",
   "id": "17fd3afb-0e11-466a-a2ec-9e7cf0d14c5f",
   "metadata": {},
   "source": [
    "We next compare the results between pychromVAR and [chromVAR](https://github.com/GreenleafLab/chromVAR) by calculating the correlation of each cells across all motifs. If these two results are similar, we should observe a high average correlation of all cells."
   ]
  },
  {
   "cell_type": "code",
   "execution_count": 9,
   "id": "a350f034-f356-42bd-9d61-576e134a65d1",
   "metadata": {},
   "outputs": [
    {
     "data": {
      "text/html": [
       "<div>\n",
       "<style scoped>\n",
       "    .dataframe tbody tr th:only-of-type {\n",
       "        vertical-align: middle;\n",
       "    }\n",
       "\n",
       "    .dataframe tbody tr th {\n",
       "        vertical-align: top;\n",
       "    }\n",
       "\n",
       "    .dataframe thead th {\n",
       "        text-align: right;\n",
       "    }\n",
       "</style>\n",
       "<table border=\"1\" class=\"dataframe\">\n",
       "  <thead>\n",
       "    <tr style=\"text-align: right;\">\n",
       "      <th></th>\n",
       "      <th>MA0004.1.Arnt</th>\n",
       "      <th>MA0006.1.Ahr::Arnt</th>\n",
       "      <th>MA0019.1.Ddit3::Cebpa</th>\n",
       "      <th>MA0029.1.Mecom</th>\n",
       "      <th>MA0030.1.FOXF2</th>\n",
       "      <th>MA0031.1.FOXD1</th>\n",
       "      <th>MA0040.1.Foxq1</th>\n",
       "      <th>MA0041.1.Foxd3</th>\n",
       "      <th>MA0051.1.IRF2</th>\n",
       "      <th>MA0057.1.MZF1(var.2)</th>\n",
       "      <th>...</th>\n",
       "      <th>MA0090.3.TEAD1</th>\n",
       "      <th>MA0809.2.TEAD4</th>\n",
       "      <th>MA0003.4.TFAP2A</th>\n",
       "      <th>MA0814.2.TFAP2C(var.2)</th>\n",
       "      <th>MA1123.2.TWIST1</th>\n",
       "      <th>MA0093.3.USF1</th>\n",
       "      <th>MA0526.3.USF2</th>\n",
       "      <th>MA0748.2.YY2</th>\n",
       "      <th>MA0528.2.ZNF263</th>\n",
       "      <th>MA0609.2.CREM</th>\n",
       "    </tr>\n",
       "  </thead>\n",
       "  <tbody>\n",
       "    <tr>\n",
       "      <th>singles-GM12878-140905-1</th>\n",
       "      <td>1.022248</td>\n",
       "      <td>0.944932</td>\n",
       "      <td>1.265912</td>\n",
       "      <td>-1.060264</td>\n",
       "      <td>-0.926150</td>\n",
       "      <td>-0.774081</td>\n",
       "      <td>0.372914</td>\n",
       "      <td>-0.211530</td>\n",
       "      <td>1.842619</td>\n",
       "      <td>-2.536760</td>\n",
       "      <td>...</td>\n",
       "      <td>-4.283673</td>\n",
       "      <td>-5.111366</td>\n",
       "      <td>1.360950</td>\n",
       "      <td>1.989680</td>\n",
       "      <td>-1.469292</td>\n",
       "      <td>0.111664</td>\n",
       "      <td>-0.037786</td>\n",
       "      <td>1.820295</td>\n",
       "      <td>-2.295501</td>\n",
       "      <td>1.172336</td>\n",
       "    </tr>\n",
       "    <tr>\n",
       "      <th>singles-GM12878-140905-2</th>\n",
       "      <td>1.884310</td>\n",
       "      <td>1.231225</td>\n",
       "      <td>0.087059</td>\n",
       "      <td>-2.161422</td>\n",
       "      <td>-1.079793</td>\n",
       "      <td>-2.344474</td>\n",
       "      <td>1.338381</td>\n",
       "      <td>-2.036170</td>\n",
       "      <td>3.475770</td>\n",
       "      <td>-0.885074</td>\n",
       "      <td>...</td>\n",
       "      <td>-3.052344</td>\n",
       "      <td>-4.096632</td>\n",
       "      <td>-0.535421</td>\n",
       "      <td>-1.057209</td>\n",
       "      <td>-1.355605</td>\n",
       "      <td>1.630271</td>\n",
       "      <td>1.888574</td>\n",
       "      <td>1.141031</td>\n",
       "      <td>0.117059</td>\n",
       "      <td>1.680419</td>\n",
       "    </tr>\n",
       "    <tr>\n",
       "      <th>singles-GM12878-140905-3</th>\n",
       "      <td>2.205514</td>\n",
       "      <td>0.712178</td>\n",
       "      <td>1.112459</td>\n",
       "      <td>-1.088628</td>\n",
       "      <td>0.347258</td>\n",
       "      <td>-1.138483</td>\n",
       "      <td>0.516385</td>\n",
       "      <td>-0.635363</td>\n",
       "      <td>2.863581</td>\n",
       "      <td>1.090530</td>\n",
       "      <td>...</td>\n",
       "      <td>-3.837208</td>\n",
       "      <td>-4.824817</td>\n",
       "      <td>-0.011690</td>\n",
       "      <td>-0.238535</td>\n",
       "      <td>0.619209</td>\n",
       "      <td>0.771739</td>\n",
       "      <td>0.542516</td>\n",
       "      <td>-0.446052</td>\n",
       "      <td>0.207964</td>\n",
       "      <td>3.330735</td>\n",
       "    </tr>\n",
       "    <tr>\n",
       "      <th>singles-GM12878-140905-4</th>\n",
       "      <td>-0.415180</td>\n",
       "      <td>3.751139</td>\n",
       "      <td>-0.091359</td>\n",
       "      <td>0.278572</td>\n",
       "      <td>-1.517153</td>\n",
       "      <td>-2.311355</td>\n",
       "      <td>-0.852947</td>\n",
       "      <td>-0.940879</td>\n",
       "      <td>3.099884</td>\n",
       "      <td>2.351855</td>\n",
       "      <td>...</td>\n",
       "      <td>-2.434227</td>\n",
       "      <td>-3.954378</td>\n",
       "      <td>-0.682616</td>\n",
       "      <td>-0.560288</td>\n",
       "      <td>1.233778</td>\n",
       "      <td>-0.451998</td>\n",
       "      <td>-1.171664</td>\n",
       "      <td>2.420646</td>\n",
       "      <td>-2.293572</td>\n",
       "      <td>2.047582</td>\n",
       "    </tr>\n",
       "    <tr>\n",
       "      <th>singles-GM12878-140905-5</th>\n",
       "      <td>-0.200453</td>\n",
       "      <td>3.277105</td>\n",
       "      <td>0.656457</td>\n",
       "      <td>-0.973237</td>\n",
       "      <td>0.625902</td>\n",
       "      <td>1.376455</td>\n",
       "      <td>1.562144</td>\n",
       "      <td>-0.485443</td>\n",
       "      <td>2.445405</td>\n",
       "      <td>-0.832067</td>\n",
       "      <td>...</td>\n",
       "      <td>-2.520336</td>\n",
       "      <td>-4.133363</td>\n",
       "      <td>-0.270743</td>\n",
       "      <td>0.103817</td>\n",
       "      <td>-0.644762</td>\n",
       "      <td>-0.083428</td>\n",
       "      <td>-0.124634</td>\n",
       "      <td>-0.103072</td>\n",
       "      <td>-0.545503</td>\n",
       "      <td>-0.238668</td>\n",
       "    </tr>\n",
       "  </tbody>\n",
       "</table>\n",
       "<p>5 rows × 746 columns</p>\n",
       "</div>"
      ],
      "text/plain": [
       "                          MA0004.1.Arnt  MA0006.1.Ahr::Arnt  \\\n",
       "singles-GM12878-140905-1       1.022248            0.944932   \n",
       "singles-GM12878-140905-2       1.884310            1.231225   \n",
       "singles-GM12878-140905-3       2.205514            0.712178   \n",
       "singles-GM12878-140905-4      -0.415180            3.751139   \n",
       "singles-GM12878-140905-5      -0.200453            3.277105   \n",
       "\n",
       "                          MA0019.1.Ddit3::Cebpa  MA0029.1.Mecom  \\\n",
       "singles-GM12878-140905-1               1.265912       -1.060264   \n",
       "singles-GM12878-140905-2               0.087059       -2.161422   \n",
       "singles-GM12878-140905-3               1.112459       -1.088628   \n",
       "singles-GM12878-140905-4              -0.091359        0.278572   \n",
       "singles-GM12878-140905-5               0.656457       -0.973237   \n",
       "\n",
       "                          MA0030.1.FOXF2  MA0031.1.FOXD1  MA0040.1.Foxq1  \\\n",
       "singles-GM12878-140905-1       -0.926150       -0.774081        0.372914   \n",
       "singles-GM12878-140905-2       -1.079793       -2.344474        1.338381   \n",
       "singles-GM12878-140905-3        0.347258       -1.138483        0.516385   \n",
       "singles-GM12878-140905-4       -1.517153       -2.311355       -0.852947   \n",
       "singles-GM12878-140905-5        0.625902        1.376455        1.562144   \n",
       "\n",
       "                          MA0041.1.Foxd3  MA0051.1.IRF2  MA0057.1.MZF1(var.2)  \\\n",
       "singles-GM12878-140905-1       -0.211530       1.842619             -2.536760   \n",
       "singles-GM12878-140905-2       -2.036170       3.475770             -0.885074   \n",
       "singles-GM12878-140905-3       -0.635363       2.863581              1.090530   \n",
       "singles-GM12878-140905-4       -0.940879       3.099884              2.351855   \n",
       "singles-GM12878-140905-5       -0.485443       2.445405             -0.832067   \n",
       "\n",
       "                          ...  MA0090.3.TEAD1  MA0809.2.TEAD4  \\\n",
       "singles-GM12878-140905-1  ...       -4.283673       -5.111366   \n",
       "singles-GM12878-140905-2  ...       -3.052344       -4.096632   \n",
       "singles-GM12878-140905-3  ...       -3.837208       -4.824817   \n",
       "singles-GM12878-140905-4  ...       -2.434227       -3.954378   \n",
       "singles-GM12878-140905-5  ...       -2.520336       -4.133363   \n",
       "\n",
       "                          MA0003.4.TFAP2A  MA0814.2.TFAP2C(var.2)  \\\n",
       "singles-GM12878-140905-1         1.360950                1.989680   \n",
       "singles-GM12878-140905-2        -0.535421               -1.057209   \n",
       "singles-GM12878-140905-3        -0.011690               -0.238535   \n",
       "singles-GM12878-140905-4        -0.682616               -0.560288   \n",
       "singles-GM12878-140905-5        -0.270743                0.103817   \n",
       "\n",
       "                          MA1123.2.TWIST1  MA0093.3.USF1  MA0526.3.USF2  \\\n",
       "singles-GM12878-140905-1        -1.469292       0.111664      -0.037786   \n",
       "singles-GM12878-140905-2        -1.355605       1.630271       1.888574   \n",
       "singles-GM12878-140905-3         0.619209       0.771739       0.542516   \n",
       "singles-GM12878-140905-4         1.233778      -0.451998      -1.171664   \n",
       "singles-GM12878-140905-5        -0.644762      -0.083428      -0.124634   \n",
       "\n",
       "                          MA0748.2.YY2  MA0528.2.ZNF263  MA0609.2.CREM  \n",
       "singles-GM12878-140905-1      1.820295        -2.295501       1.172336  \n",
       "singles-GM12878-140905-2      1.141031         0.117059       1.680419  \n",
       "singles-GM12878-140905-3     -0.446052         0.207964       3.330735  \n",
       "singles-GM12878-140905-4      2.420646        -2.293572       2.047582  \n",
       "singles-GM12878-140905-5     -0.103072        -0.545503      -0.238668  \n",
       "\n",
       "[5 rows x 746 columns]"
      ]
     },
     "execution_count": 9,
     "metadata": {},
     "output_type": "execute_result"
    }
   ],
   "source": [
    "df_pychromvar = pd.DataFrame(dev.X, \n",
    "                             columns=dev.var_names, \n",
    "                             index=dev.obs_names)\n",
    "\n",
    "df_pychromvar.head()"
   ]
  },
  {
   "cell_type": "code",
   "execution_count": 10,
   "id": "e4ab4473-f718-485c-af97-8f0425057c95",
   "metadata": {},
   "outputs": [
    {
     "data": {
      "text/html": [
       "<div>\n",
       "<style scoped>\n",
       "    .dataframe tbody tr th:only-of-type {\n",
       "        vertical-align: middle;\n",
       "    }\n",
       "\n",
       "    .dataframe tbody tr th {\n",
       "        vertical-align: top;\n",
       "    }\n",
       "\n",
       "    .dataframe thead th {\n",
       "        text-align: right;\n",
       "    }\n",
       "</style>\n",
       "<table border=\"1\" class=\"dataframe\">\n",
       "  <thead>\n",
       "    <tr style=\"text-align: right;\">\n",
       "      <th></th>\n",
       "      <th>MA0004.1.Arnt</th>\n",
       "      <th>MA0006.1.Ahr::Arnt</th>\n",
       "      <th>MA0019.1.Ddit3::Cebpa</th>\n",
       "      <th>MA0029.1.Mecom</th>\n",
       "      <th>MA0030.1.FOXF2</th>\n",
       "      <th>MA0031.1.FOXD1</th>\n",
       "      <th>MA0040.1.Foxq1</th>\n",
       "      <th>MA0041.1.Foxd3</th>\n",
       "      <th>MA0051.1.IRF2</th>\n",
       "      <th>MA0057.1.MZF1(var.2)</th>\n",
       "      <th>...</th>\n",
       "      <th>MA0090.3.TEAD1</th>\n",
       "      <th>MA0809.2.TEAD4</th>\n",
       "      <th>MA0003.4.TFAP2A</th>\n",
       "      <th>MA0814.2.TFAP2C(var.2)</th>\n",
       "      <th>MA1123.2.TWIST1</th>\n",
       "      <th>MA0093.3.USF1</th>\n",
       "      <th>MA0526.3.USF2</th>\n",
       "      <th>MA0748.2.YY2</th>\n",
       "      <th>MA0528.2.ZNF263</th>\n",
       "      <th>MA0609.2.CREM</th>\n",
       "    </tr>\n",
       "  </thead>\n",
       "  <tbody>\n",
       "    <tr>\n",
       "      <th>singles-GM12878-140905-1</th>\n",
       "      <td>0.75</td>\n",
       "      <td>0.84</td>\n",
       "      <td>2.36</td>\n",
       "      <td>-0.97</td>\n",
       "      <td>-1.15</td>\n",
       "      <td>-0.87</td>\n",
       "      <td>-0.42</td>\n",
       "      <td>-0.45</td>\n",
       "      <td>1.39</td>\n",
       "      <td>-2.27</td>\n",
       "      <td>...</td>\n",
       "      <td>-3.93</td>\n",
       "      <td>-4.81</td>\n",
       "      <td>0.36</td>\n",
       "      <td>1.57</td>\n",
       "      <td>-0.49</td>\n",
       "      <td>-0.16</td>\n",
       "      <td>0.05</td>\n",
       "      <td>1.94</td>\n",
       "      <td>-1.17</td>\n",
       "      <td>0.51</td>\n",
       "    </tr>\n",
       "    <tr>\n",
       "      <th>singles-GM12878-140905-2</th>\n",
       "      <td>2.34</td>\n",
       "      <td>1.52</td>\n",
       "      <td>0.87</td>\n",
       "      <td>-1.46</td>\n",
       "      <td>-0.79</td>\n",
       "      <td>-1.69</td>\n",
       "      <td>0.51</td>\n",
       "      <td>-1.17</td>\n",
       "      <td>1.87</td>\n",
       "      <td>-1.18</td>\n",
       "      <td>...</td>\n",
       "      <td>-3.63</td>\n",
       "      <td>-4.43</td>\n",
       "      <td>-0.94</td>\n",
       "      <td>-0.81</td>\n",
       "      <td>-1.57</td>\n",
       "      <td>3.01</td>\n",
       "      <td>2.55</td>\n",
       "      <td>0.98</td>\n",
       "      <td>-0.60</td>\n",
       "      <td>1.82</td>\n",
       "    </tr>\n",
       "    <tr>\n",
       "      <th>singles-GM12878-140905-3</th>\n",
       "      <td>1.81</td>\n",
       "      <td>0.34</td>\n",
       "      <td>1.16</td>\n",
       "      <td>-1.48</td>\n",
       "      <td>-0.71</td>\n",
       "      <td>0.14</td>\n",
       "      <td>-0.36</td>\n",
       "      <td>-1.38</td>\n",
       "      <td>1.85</td>\n",
       "      <td>1.36</td>\n",
       "      <td>...</td>\n",
       "      <td>-3.59</td>\n",
       "      <td>-4.59</td>\n",
       "      <td>0.18</td>\n",
       "      <td>0.32</td>\n",
       "      <td>-1.00</td>\n",
       "      <td>0.63</td>\n",
       "      <td>0.53</td>\n",
       "      <td>-0.56</td>\n",
       "      <td>-0.18</td>\n",
       "      <td>1.60</td>\n",
       "    </tr>\n",
       "    <tr>\n",
       "      <th>singles-GM12878-140905-4</th>\n",
       "      <td>-0.18</td>\n",
       "      <td>3.77</td>\n",
       "      <td>-0.55</td>\n",
       "      <td>-1.50</td>\n",
       "      <td>-2.06</td>\n",
       "      <td>-3.02</td>\n",
       "      <td>-0.56</td>\n",
       "      <td>-0.93</td>\n",
       "      <td>3.62</td>\n",
       "      <td>1.39</td>\n",
       "      <td>...</td>\n",
       "      <td>-3.18</td>\n",
       "      <td>-4.08</td>\n",
       "      <td>-0.12</td>\n",
       "      <td>-0.21</td>\n",
       "      <td>0.44</td>\n",
       "      <td>-0.33</td>\n",
       "      <td>-0.84</td>\n",
       "      <td>2.23</td>\n",
       "      <td>-2.55</td>\n",
       "      <td>2.67</td>\n",
       "    </tr>\n",
       "    <tr>\n",
       "      <th>singles-GM12878-140905-5</th>\n",
       "      <td>-0.03</td>\n",
       "      <td>2.49</td>\n",
       "      <td>0.80</td>\n",
       "      <td>-0.17</td>\n",
       "      <td>0.69</td>\n",
       "      <td>2.64</td>\n",
       "      <td>0.54</td>\n",
       "      <td>1.17</td>\n",
       "      <td>1.95</td>\n",
       "      <td>-0.99</td>\n",
       "      <td>...</td>\n",
       "      <td>-3.14</td>\n",
       "      <td>-3.32</td>\n",
       "      <td>0.38</td>\n",
       "      <td>0.07</td>\n",
       "      <td>-0.48</td>\n",
       "      <td>0.49</td>\n",
       "      <td>0.46</td>\n",
       "      <td>-0.61</td>\n",
       "      <td>-0.47</td>\n",
       "      <td>-0.09</td>\n",
       "    </tr>\n",
       "  </tbody>\n",
       "</table>\n",
       "<p>5 rows × 746 columns</p>\n",
       "</div>"
      ],
      "text/plain": [
       "                          MA0004.1.Arnt  MA0006.1.Ahr::Arnt  \\\n",
       "singles-GM12878-140905-1           0.75                0.84   \n",
       "singles-GM12878-140905-2           2.34                1.52   \n",
       "singles-GM12878-140905-3           1.81                0.34   \n",
       "singles-GM12878-140905-4          -0.18                3.77   \n",
       "singles-GM12878-140905-5          -0.03                2.49   \n",
       "\n",
       "                          MA0019.1.Ddit3::Cebpa  MA0029.1.Mecom  \\\n",
       "singles-GM12878-140905-1                   2.36           -0.97   \n",
       "singles-GM12878-140905-2                   0.87           -1.46   \n",
       "singles-GM12878-140905-3                   1.16           -1.48   \n",
       "singles-GM12878-140905-4                  -0.55           -1.50   \n",
       "singles-GM12878-140905-5                   0.80           -0.17   \n",
       "\n",
       "                          MA0030.1.FOXF2  MA0031.1.FOXD1  MA0040.1.Foxq1  \\\n",
       "singles-GM12878-140905-1           -1.15           -0.87           -0.42   \n",
       "singles-GM12878-140905-2           -0.79           -1.69            0.51   \n",
       "singles-GM12878-140905-3           -0.71            0.14           -0.36   \n",
       "singles-GM12878-140905-4           -2.06           -3.02           -0.56   \n",
       "singles-GM12878-140905-5            0.69            2.64            0.54   \n",
       "\n",
       "                          MA0041.1.Foxd3  MA0051.1.IRF2  MA0057.1.MZF1(var.2)  \\\n",
       "singles-GM12878-140905-1           -0.45           1.39                 -2.27   \n",
       "singles-GM12878-140905-2           -1.17           1.87                 -1.18   \n",
       "singles-GM12878-140905-3           -1.38           1.85                  1.36   \n",
       "singles-GM12878-140905-4           -0.93           3.62                  1.39   \n",
       "singles-GM12878-140905-5            1.17           1.95                 -0.99   \n",
       "\n",
       "                          ...  MA0090.3.TEAD1  MA0809.2.TEAD4  \\\n",
       "singles-GM12878-140905-1  ...           -3.93           -4.81   \n",
       "singles-GM12878-140905-2  ...           -3.63           -4.43   \n",
       "singles-GM12878-140905-3  ...           -3.59           -4.59   \n",
       "singles-GM12878-140905-4  ...           -3.18           -4.08   \n",
       "singles-GM12878-140905-5  ...           -3.14           -3.32   \n",
       "\n",
       "                          MA0003.4.TFAP2A  MA0814.2.TFAP2C(var.2)  \\\n",
       "singles-GM12878-140905-1             0.36                    1.57   \n",
       "singles-GM12878-140905-2            -0.94                   -0.81   \n",
       "singles-GM12878-140905-3             0.18                    0.32   \n",
       "singles-GM12878-140905-4            -0.12                   -0.21   \n",
       "singles-GM12878-140905-5             0.38                    0.07   \n",
       "\n",
       "                          MA1123.2.TWIST1  MA0093.3.USF1  MA0526.3.USF2  \\\n",
       "singles-GM12878-140905-1            -0.49          -0.16           0.05   \n",
       "singles-GM12878-140905-2            -1.57           3.01           2.55   \n",
       "singles-GM12878-140905-3            -1.00           0.63           0.53   \n",
       "singles-GM12878-140905-4             0.44          -0.33          -0.84   \n",
       "singles-GM12878-140905-5            -0.48           0.49           0.46   \n",
       "\n",
       "                          MA0748.2.YY2  MA0528.2.ZNF263  MA0609.2.CREM  \n",
       "singles-GM12878-140905-1          1.94            -1.17           0.51  \n",
       "singles-GM12878-140905-2          0.98            -0.60           1.82  \n",
       "singles-GM12878-140905-3         -0.56            -0.18           1.60  \n",
       "singles-GM12878-140905-4          2.23            -2.55           2.67  \n",
       "singles-GM12878-140905-5         -0.61            -0.47          -0.09  \n",
       "\n",
       "[5 rows x 746 columns]"
      ]
     },
     "execution_count": 10,
     "metadata": {},
     "output_type": "execute_result"
    }
   ],
   "source": [
    "df_chromvar = pd.read_csv(\"./chromvar_z.csv\", index_col=0)\n",
    "df_chromvar.head()"
   ]
  },
  {
   "cell_type": "code",
   "execution_count": 11,
   "id": "89521925-262d-4dbe-ac42-95ed6ac6c5c6",
   "metadata": {},
   "outputs": [
    {
     "data": {
      "text/plain": [
       "0.8635622594005372"
      ]
     },
     "execution_count": 11,
     "metadata": {},
     "output_type": "execute_result"
    }
   ],
   "source": [
    "correlation = df_pychromvar.corrwith(df_chromvar, axis = 1)\n",
    "\n",
    "np.mean(correlation)"
   ]
  },
  {
   "cell_type": "markdown",
   "id": "6c8ba690-e530-4166-a2e6-d743f5682b24",
   "metadata": {},
   "source": [
    "We can observe that the average correlation is 0.86 which is quite high, indication that our implementation produce highly similar results as the orignial R package does. We can plot the correlations as well."
   ]
  },
  {
   "cell_type": "code",
   "execution_count": 12,
   "id": "75284ab2-a512-41c8-ad4e-fd643e3374d5",
   "metadata": {},
   "outputs": [
    {
     "data": {
      "text/plain": [
       "<AxesSubplot: >"
      ]
     },
     "execution_count": 12,
     "metadata": {},
     "output_type": "execute_result"
    },
    {
     "data": {
      "image/png": "[encoded data removed]",
      "text/plain": [
       "<Figure size 640x480 with 1 Axes>"
      ]
     },
     "metadata": {},
     "output_type": "display_data"
    }
   ],
   "source": [
    "sns.boxplot(data=correlation)"
   ]
  },
  {
   "cell_type": "markdown",
   "id": "dd84dd9e-ff84-4233-ab19-7c01a1deaf50",
   "metadata": {},
   "source": [
    "## Where the differences come from?"
   ]
  },
  {
   "cell_type": "markdown",
   "id": "3665f0ea-d777-4bc3-be27-94cac0bdf3b3",
   "metadata": {},
   "source": [
    "If you want to figure out why there are some differences between our implementation and chromVAR, let's do some **perturbation** experiments. There are two steps that can probably give rise to different results:\n",
    "\n",
    "* background peaks identification\n",
    "* motif matching\n",
    "\n",
    "For background peaks, here I used a simpler approach based on KNN method after normalizing the GC bias and number of reads for peaks.\n",
    "\n",
    "For motif matching, the package [MOODS-python](https://pypi.org/project/MOODS-python/) was used, while in chromVAR, the R package [https://github.com/GreenleafLab/motifmatchr] was used. Though both packages are based on [MOODS](https://github.com/jhkorhonen/MOODS), there are maybe some differences in details."
   ]
  },
  {
   "cell_type": "markdown",
   "id": "7da60b09-2b36-456f-b0e1-2fe823212d45",
   "metadata": {},
   "source": [
    "We first replace the background peaks using results from chromVAR, and see if the results are changed significantly or not."
   ]
  },
  {
   "cell_type": "markdown",
   "id": "675a7314-1593-4844-9b6a-5a99efda9d56",
   "metadata": {},
   "source": [
    "load background peaks identified by chromVAR"
   ]
  },
  {
   "cell_type": "code",
   "execution_count": 13,
   "id": "f30c3c18-13e1-44fc-a61f-d50ceec36430",
   "metadata": {},
   "outputs": [],
   "source": [
    "df_bg_peaks = pd.read_csv(\"./bg_peaks.csv\", index_col=0)"
   ]
  },
  {
   "cell_type": "markdown",
   "id": "2dd159de-b7b0-411d-92f5-712da61839ea",
   "metadata": {},
   "source": [
    "replace the background peaks "
   ]
  },
  {
   "cell_type": "code",
   "execution_count": 14,
   "id": "992f8686-4593-4d32-b58e-78926b10a5e2",
   "metadata": {},
   "outputs": [],
   "source": [
    "adata.varm['pychromvar_bg_peaks'] = adata.varm['bg_peaks']\n",
    "adata.varm['bg_peaks'] = df_bg_peaks.to_numpy() - 1"
   ]
  },
  {
   "cell_type": "markdown",
   "id": "f0b1259e-8365-480e-9850-7faeb0ae26d5",
   "metadata": {},
   "source": [
    "compute deviation again"
   ]
  },
  {
   "cell_type": "code",
   "execution_count": 15,
   "id": "ec7769a0-7d47-4eda-97f3-6b5515a95975",
   "metadata": {},
   "outputs": [
    {
     "name": "stderr",
     "output_type": "stream",
     "text": [
      "2023-01-27 20:46:23 INFO     computing expectation reads per cell and peak...\n",
      "2023-01-27 20:46:23 INFO     computing observed motif deviations...\n",
      "2023-01-27 20:46:24 INFO     computing background deviations...\n"
     ]
    }
   ],
   "source": [
    "dev = pc.compute_deviations(adata)"
   ]
  },
  {
   "cell_type": "code",
   "execution_count": 16,
   "id": "1708e3bf-9eee-456c-9e0f-bf2a41ee03af",
   "metadata": {},
   "outputs": [
    {
     "data": {
      "text/plain": [
       "0.8629452586171414"
      ]
     },
     "execution_count": 16,
     "metadata": {},
     "output_type": "execute_result"
    }
   ],
   "source": [
    "df_pychromvar = pd.DataFrame(dev.X, \n",
    "                             columns=dev.var_names, \n",
    "                             index=dev.obs_names)\n",
    "np.mean(df_pychromvar.corrwith(df_chromvar, axis = 1))"
   ]
  },
  {
   "cell_type": "markdown",
   "id": "6313d182-3d69-4284-b74c-19e7283001a4",
   "metadata": {},
   "source": [
    "We can see the corrleation kept almost unchanged, meaning that both methods identified similar background peaks."
   ]
  },
  {
   "cell_type": "markdown",
   "id": "099f19b6-0aa9-4294-9ff7-10671b8d1cae",
   "metadata": {},
   "source": [
    "Let's try to perturb the motif matching results:"
   ]
  },
  {
   "cell_type": "code",
   "execution_count": 17,
   "id": "27a980fe-301e-4054-a8b1-f40279ad6a61",
   "metadata": {},
   "outputs": [],
   "source": [
    "df_motif_match = pd.read_csv(\"./chromvar_motif_match.csv\", index_col=0)\n",
    "adata.varm['motif_match'] = df_motif_match.to_numpy()"
   ]
  },
  {
   "cell_type": "code",
   "execution_count": 18,
   "id": "fbca6613-96e6-42ca-b84d-bc83bddc3e5b",
   "metadata": {},
   "outputs": [
    {
     "name": "stderr",
     "output_type": "stream",
     "text": [
      "2023-01-27 20:46:38 INFO     computing expectation reads per cell and peak...\n",
      "2023-01-27 20:46:38 INFO     computing observed motif deviations...\n",
      "/Users/zhijianli/miniconda3/envs/pychromvar/lib/python3.9/site-packages/pychromvar/compute_deviations.py:103: RuntimeWarning: invalid value encountered in divide\n",
      "  return ((observed - expected) / expected)\n",
      "2023-01-27 20:46:39 INFO     computing background deviations...\n",
      "/Users/zhijianli/miniconda3/envs/pychromvar/lib/python3.9/site-packages/pychromvar/compute_deviations.py:103: RuntimeWarning: invalid value encountered in divide\n",
      "  return ((observed - expected) / expected)\n",
      "/Users/zhijianli/miniconda3/envs/pychromvar/lib/python3.9/site-packages/pychromvar/compute_deviations.py:103: RuntimeWarning: invalid value encountered in divide\n",
      "  return ((observed - expected) / expected)\n",
      "/Users/zhijianli/miniconda3/envs/pychromvar/lib/python3.9/site-packages/pychromvar/compute_deviations.py:103: RuntimeWarning: invalid value encountered in divide\n",
      "  return ((observed - expected) / expected)\n",
      "/Users/zhijianli/miniconda3/envs/pychromvar/lib/python3.9/site-packages/pychromvar/compute_deviations.py:103: RuntimeWarning: invalid value encountered in divide\n",
      "  return ((observed - expected) / expected)\n",
      "/Users/zhijianli/miniconda3/envs/pychromvar/lib/python3.9/site-packages/pychromvar/compute_deviations.py:103: RuntimeWarning: invalid value encountered in divide\n",
      "  return ((observed - expected) / expected)\n",
      "/Users/zhijianli/miniconda3/envs/pychromvar/lib/python3.9/site-packages/pychromvar/compute_deviations.py:103: RuntimeWarning: invalid value encountered in divide\n",
      "  return ((observed - expected) / expected)\n",
      "/Users/zhijianli/miniconda3/envs/pychromvar/lib/python3.9/site-packages/pychromvar/compute_deviations.py:103: RuntimeWarning: invalid value encountered in divide\n",
      "  return ((observed - expected) / expected)\n",
      "/Users/zhijianli/miniconda3/envs/pychromvar/lib/python3.9/site-packages/pychromvar/compute_deviations.py:103: RuntimeWarning: invalid value encountered in divide\n",
      "  return ((observed - expected) / expected)\n"
     ]
    }
   ],
   "source": [
    "dev = pc.compute_deviations(adata)"
   ]
  },
  {
   "cell_type": "code",
   "execution_count": 19,
   "id": "7289e19c-bfcd-4ccd-b0d5-f9abe20d00f4",
   "metadata": {},
   "outputs": [
    {
     "data": {
      "text/plain": [
       "0.9755521523075352"
      ]
     },
     "execution_count": 19,
     "metadata": {},
     "output_type": "execute_result"
    }
   ],
   "source": [
    "df_pychromvar = pd.DataFrame(dev.X, \n",
    "                             columns=dev.var_names, \n",
    "                             index=dev.obs_names)\n",
    "np.mean(df_pychromvar.corrwith(df_chromvar, axis = 1))"
   ]
  },
  {
   "cell_type": "markdown",
   "id": "f3fe9a25-30ad-41d3-8653-21d49a0c776c",
   "metadata": {},
   "source": [
    "Wooow! We got a 0.978 correlation, almost the exactly same results as chromVAR. So it is the motif matching that causes the diveregence between these two packages.\n",
    "After checking MOODS-python and motifmatchr, I found that they are actualy based on different version of MOODS, i.e., MOODS-python is based on 1.9.4 while motifmatchr is based on 1.9.3."
   ]
  },
  {
   "cell_type": "code",
   "execution_count": null,
   "id": "023481b4-b5c3-4301-9bb1-e114025ef77b",
   "metadata": {},
   "outputs": [],
   "source": []
  }
 ],
 "metadata": {
  "kernelspec": {
   "display_name": "Python 3 (ipykernel)",
   "language": "python",
   "name": "python3"
  },
  "language_info": {
   "codemirror_mode": {
    "name": "ipython",
    "version": 3
   },
   "file_extension": ".py",
   "mimetype": "text/x-python",
   "name": "python",
   "nbconvert_exporter": "python",
   "pygments_lexer": "ipython3",
   "version": "3.9.15"
  }
 },
 "nbformat": 4,
 "nbformat_minor": 5
}
