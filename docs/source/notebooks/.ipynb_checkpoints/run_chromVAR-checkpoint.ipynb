{
 "cells": [
  {
   "cell_type": "markdown",
   "id": "e8b8e7da-4243-4d58-a2f1-4b870ba031c1",
   "metadata": {},
   "source": [
    "# Run chromVAR on example data"
   ]
  },
  {
   "cell_type": "markdown",
   "id": "648b47d4-c6d4-4b87-9520-93cb559027fa",
   "metadata": {},
   "source": [
    "Since we completely re-implemented the package in Python by using the idea from chromVAR, we may want to confirm that these two packages can\n",
    "produce the similar, if not exactly same, results. So here we test them on a small example data from chromVAR.\n",
    "\n",
    "We first load the packages that we need"
   ]
  },
  {
   "cell_type": "code",
   "execution_count": 1,
   "id": "6936f4a0-b886-4e8a-b6c2-e08e2a5cb536",
   "metadata": {},
   "outputs": [],
   "source": [
    "suppressMessages(library(chromVAR))\n",
    "suppressMessages(library(Repitools))\n",
    "suppressMessages(library(SummarizedExperiment))"
   ]
  },
  {
   "cell_type": "markdown",
   "id": "e9cef265-97aa-4f55-97fe-32dffc9372ee",
   "metadata": {},
   "source": [
    "Let's "
   ]
  },
  {
   "cell_type": "code",
   "execution_count": 2,
   "id": "e722f974-9913-4f41-ac85-c15ff618a50f",
   "metadata": {},
   "outputs": [],
   "source": [
    "data(example_counts, package = \"chromVAR\")\n",
    "df_peaks <- annoGR2DF(example_counts@rowRanges)\n",
    "df_peaks$peak <- paste0(df_peaks$chr, \"-\", df_peaks$start, \"-\", df_peaks$end)"
   ]
  },
  {
   "cell_type": "code",
   "execution_count": null,
   "id": "c4e7a01e-1213-48c3-bf93-a16648cb399c",
   "metadata": {},
   "outputs": [],
   "source": []
  }
 ],
 "metadata": {
  "kernelspec": {
   "display_name": "R",
   "language": "R",
   "name": "ir"
  },
  "language_info": {
   "codemirror_mode": "r",
   "file_extension": ".r",
   "mimetype": "text/x-r-source",
   "name": "R",
   "pygments_lexer": "r",
   "version": "4.1.3"
  }
 },
 "nbformat": 4,
 "nbformat_minor": 5
}
